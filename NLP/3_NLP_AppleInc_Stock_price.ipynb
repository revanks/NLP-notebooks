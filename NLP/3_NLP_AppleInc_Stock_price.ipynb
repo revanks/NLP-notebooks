{
  "nbformat": 4,
  "nbformat_minor": 0,
  "metadata": {
    "colab": {
      "name": "3_NLP_AppleInc_Stock_price.ipynb",
      "provenance": [],
      "collapsed_sections": []
    },
    "kernelspec": {
      "name": "python3",
      "display_name": "Python 3"
    }
  },
  "cells": [
    {
      "cell_type": "markdown",
      "metadata": {
        "id": "ORMAx-ZImr1T"
      },
      "source": [
        "#Stock Market Prediction And Forecasting"
      ]
    },
    {
      "cell_type": "code",
      "metadata": {
        "id": "r-nBkazsmt0W"
      },
      "source": [
        "### Data Collection\r\n",
        "import pandas as pd\r\n",
        "import pandas_datareader as pdr\r\n",
        "key=\"a362dbf824b348f441e9b0d98f3a0205424a59c4\""
      ],
      "execution_count": 1,
      "outputs": []
    },
    {
      "cell_type": "code",
      "metadata": {
        "colab": {
          "base_uri": "https://localhost:8080/",
          "height": 197
        },
        "id": "cpvgC1JEmzHk",
        "outputId": "956aabed-c0a0-4b62-82b1-b07a40e1dd03"
      },
      "source": [
        "df = pdr.get_data_tiingo('AAPL', api_key=key)\r\n",
        "df.to_csv('AAPL.csv')\r\n",
        "df=pd.read_csv('AAPL.csv')\r\n",
        "df.head()"
      ],
      "execution_count": 3,
      "outputs": [
        {
          "output_type": "execute_result",
          "data": {
            "text/html": [
              "<div>\n",
              "<style scoped>\n",
              "    .dataframe tbody tr th:only-of-type {\n",
              "        vertical-align: middle;\n",
              "    }\n",
              "\n",
              "    .dataframe tbody tr th {\n",
              "        vertical-align: top;\n",
              "    }\n",
              "\n",
              "    .dataframe thead th {\n",
              "        text-align: right;\n",
              "    }\n",
              "</style>\n",
              "<table border=\"1\" class=\"dataframe\">\n",
              "  <thead>\n",
              "    <tr style=\"text-align: right;\">\n",
              "      <th></th>\n",
              "      <th>symbol</th>\n",
              "      <th>date</th>\n",
              "      <th>close</th>\n",
              "      <th>high</th>\n",
              "      <th>low</th>\n",
              "      <th>open</th>\n",
              "      <th>volume</th>\n",
              "      <th>adjClose</th>\n",
              "      <th>adjHigh</th>\n",
              "      <th>adjLow</th>\n",
              "      <th>adjOpen</th>\n",
              "      <th>adjVolume</th>\n",
              "      <th>divCash</th>\n",
              "      <th>splitFactor</th>\n",
              "    </tr>\n",
              "  </thead>\n",
              "  <tbody>\n",
              "    <tr>\n",
              "      <th>0</th>\n",
              "      <td>AAPL</td>\n",
              "      <td>2016-02-05 00:00:00+00:00</td>\n",
              "      <td>94.02</td>\n",
              "      <td>96.92</td>\n",
              "      <td>93.69</td>\n",
              "      <td>96.52</td>\n",
              "      <td>46418064</td>\n",
              "      <td>21.891168</td>\n",
              "      <td>22.566390</td>\n",
              "      <td>21.814333</td>\n",
              "      <td>22.473256</td>\n",
              "      <td>185672256</td>\n",
              "      <td>0.0</td>\n",
              "      <td>1.0</td>\n",
              "    </tr>\n",
              "    <tr>\n",
              "      <th>1</th>\n",
              "      <td>AAPL</td>\n",
              "      <td>2016-02-08 00:00:00+00:00</td>\n",
              "      <td>95.01</td>\n",
              "      <td>95.70</td>\n",
              "      <td>93.04</td>\n",
              "      <td>93.13</td>\n",
              "      <td>54021375</td>\n",
              "      <td>22.121675</td>\n",
              "      <td>22.282331</td>\n",
              "      <td>21.662990</td>\n",
              "      <td>21.683945</td>\n",
              "      <td>216085500</td>\n",
              "      <td>0.0</td>\n",
              "      <td>1.0</td>\n",
              "    </tr>\n",
              "    <tr>\n",
              "      <th>2</th>\n",
              "      <td>AAPL</td>\n",
              "      <td>2016-02-09 00:00:00+00:00</td>\n",
              "      <td>94.99</td>\n",
              "      <td>95.94</td>\n",
              "      <td>93.93</td>\n",
              "      <td>94.29</td>\n",
              "      <td>44331195</td>\n",
              "      <td>22.117018</td>\n",
              "      <td>22.338212</td>\n",
              "      <td>21.870213</td>\n",
              "      <td>21.954034</td>\n",
              "      <td>177324780</td>\n",
              "      <td>0.0</td>\n",
              "      <td>1.0</td>\n",
              "    </tr>\n",
              "    <tr>\n",
              "      <th>3</th>\n",
              "      <td>AAPL</td>\n",
              "      <td>2016-02-10 00:00:00+00:00</td>\n",
              "      <td>94.27</td>\n",
              "      <td>96.35</td>\n",
              "      <td>94.10</td>\n",
              "      <td>95.92</td>\n",
              "      <td>42343601</td>\n",
              "      <td>21.949377</td>\n",
              "      <td>22.433674</td>\n",
              "      <td>21.909795</td>\n",
              "      <td>22.333555</td>\n",
              "      <td>169374404</td>\n",
              "      <td>0.0</td>\n",
              "      <td>1.0</td>\n",
              "    </tr>\n",
              "    <tr>\n",
              "      <th>4</th>\n",
              "      <td>AAPL</td>\n",
              "      <td>2016-02-11 00:00:00+00:00</td>\n",
              "      <td>93.70</td>\n",
              "      <td>94.72</td>\n",
              "      <td>92.59</td>\n",
              "      <td>93.79</td>\n",
              "      <td>50074711</td>\n",
              "      <td>21.816661</td>\n",
              "      <td>22.054153</td>\n",
              "      <td>21.558214</td>\n",
              "      <td>21.837616</td>\n",
              "      <td>200298844</td>\n",
              "      <td>0.0</td>\n",
              "      <td>1.0</td>\n",
              "    </tr>\n",
              "  </tbody>\n",
              "</table>\n",
              "</div>"
            ],
            "text/plain": [
              "  symbol                       date  close  ...  adjVolume  divCash  splitFactor\n",
              "0   AAPL  2016-02-05 00:00:00+00:00  94.02  ...  185672256      0.0          1.0\n",
              "1   AAPL  2016-02-08 00:00:00+00:00  95.01  ...  216085500      0.0          1.0\n",
              "2   AAPL  2016-02-09 00:00:00+00:00  94.99  ...  177324780      0.0          1.0\n",
              "3   AAPL  2016-02-10 00:00:00+00:00  94.27  ...  169374404      0.0          1.0\n",
              "4   AAPL  2016-02-11 00:00:00+00:00  93.70  ...  200298844      0.0          1.0\n",
              "\n",
              "[5 rows x 14 columns]"
            ]
          },
          "metadata": {
            "tags": []
          },
          "execution_count": 3
        }
      ]
    },
    {
      "cell_type": "code",
      "metadata": {
        "colab": {
          "base_uri": "https://localhost:8080/",
          "height": 197
        },
        "id": "WYk4WjWNnMGt",
        "outputId": "f8289ee3-6a5b-4e20-9dfa-0af95caf8697"
      },
      "source": [
        "df.tail()"
      ],
      "execution_count": 4,
      "outputs": [
        {
          "output_type": "execute_result",
          "data": {
            "text/html": [
              "<div>\n",
              "<style scoped>\n",
              "    .dataframe tbody tr th:only-of-type {\n",
              "        vertical-align: middle;\n",
              "    }\n",
              "\n",
              "    .dataframe tbody tr th {\n",
              "        vertical-align: top;\n",
              "    }\n",
              "\n",
              "    .dataframe thead th {\n",
              "        text-align: right;\n",
              "    }\n",
              "</style>\n",
              "<table border=\"1\" class=\"dataframe\">\n",
              "  <thead>\n",
              "    <tr style=\"text-align: right;\">\n",
              "      <th></th>\n",
              "      <th>symbol</th>\n",
              "      <th>date</th>\n",
              "      <th>close</th>\n",
              "      <th>high</th>\n",
              "      <th>low</th>\n",
              "      <th>open</th>\n",
              "      <th>volume</th>\n",
              "      <th>adjClose</th>\n",
              "      <th>adjHigh</th>\n",
              "      <th>adjLow</th>\n",
              "      <th>adjOpen</th>\n",
              "      <th>adjVolume</th>\n",
              "      <th>divCash</th>\n",
              "      <th>splitFactor</th>\n",
              "    </tr>\n",
              "  </thead>\n",
              "  <tbody>\n",
              "    <tr>\n",
              "      <th>1252</th>\n",
              "      <td>AAPL</td>\n",
              "      <td>2021-01-27 00:00:00+00:00</td>\n",
              "      <td>142.06</td>\n",
              "      <td>144.30</td>\n",
              "      <td>140.41</td>\n",
              "      <td>143.43</td>\n",
              "      <td>140843759</td>\n",
              "      <td>142.06</td>\n",
              "      <td>144.30</td>\n",
              "      <td>140.41</td>\n",
              "      <td>143.43</td>\n",
              "      <td>140843759</td>\n",
              "      <td>0.0</td>\n",
              "      <td>1.0</td>\n",
              "    </tr>\n",
              "    <tr>\n",
              "      <th>1253</th>\n",
              "      <td>AAPL</td>\n",
              "      <td>2021-01-28 00:00:00+00:00</td>\n",
              "      <td>137.09</td>\n",
              "      <td>141.99</td>\n",
              "      <td>136.70</td>\n",
              "      <td>139.52</td>\n",
              "      <td>142621128</td>\n",
              "      <td>137.09</td>\n",
              "      <td>141.99</td>\n",
              "      <td>136.70</td>\n",
              "      <td>139.52</td>\n",
              "      <td>142621128</td>\n",
              "      <td>0.0</td>\n",
              "      <td>1.0</td>\n",
              "    </tr>\n",
              "    <tr>\n",
              "      <th>1254</th>\n",
              "      <td>AAPL</td>\n",
              "      <td>2021-01-29 00:00:00+00:00</td>\n",
              "      <td>131.96</td>\n",
              "      <td>136.74</td>\n",
              "      <td>130.21</td>\n",
              "      <td>135.83</td>\n",
              "      <td>177523812</td>\n",
              "      <td>131.96</td>\n",
              "      <td>136.74</td>\n",
              "      <td>130.21</td>\n",
              "      <td>135.83</td>\n",
              "      <td>177523812</td>\n",
              "      <td>0.0</td>\n",
              "      <td>1.0</td>\n",
              "    </tr>\n",
              "    <tr>\n",
              "      <th>1255</th>\n",
              "      <td>AAPL</td>\n",
              "      <td>2021-02-01 00:00:00+00:00</td>\n",
              "      <td>134.14</td>\n",
              "      <td>135.38</td>\n",
              "      <td>130.93</td>\n",
              "      <td>133.75</td>\n",
              "      <td>106239823</td>\n",
              "      <td>134.14</td>\n",
              "      <td>135.38</td>\n",
              "      <td>130.93</td>\n",
              "      <td>133.75</td>\n",
              "      <td>106239823</td>\n",
              "      <td>0.0</td>\n",
              "      <td>1.0</td>\n",
              "    </tr>\n",
              "    <tr>\n",
              "      <th>1256</th>\n",
              "      <td>AAPL</td>\n",
              "      <td>2021-02-02 00:00:00+00:00</td>\n",
              "      <td>134.99</td>\n",
              "      <td>136.31</td>\n",
              "      <td>134.61</td>\n",
              "      <td>135.73</td>\n",
              "      <td>82266419</td>\n",
              "      <td>134.99</td>\n",
              "      <td>136.31</td>\n",
              "      <td>134.61</td>\n",
              "      <td>135.73</td>\n",
              "      <td>82266419</td>\n",
              "      <td>0.0</td>\n",
              "      <td>1.0</td>\n",
              "    </tr>\n",
              "  </tbody>\n",
              "</table>\n",
              "</div>"
            ],
            "text/plain": [
              "     symbol                       date   close  ...  adjVolume  divCash  splitFactor\n",
              "1252   AAPL  2021-01-27 00:00:00+00:00  142.06  ...  140843759      0.0          1.0\n",
              "1253   AAPL  2021-01-28 00:00:00+00:00  137.09  ...  142621128      0.0          1.0\n",
              "1254   AAPL  2021-01-29 00:00:00+00:00  131.96  ...  177523812      0.0          1.0\n",
              "1255   AAPL  2021-02-01 00:00:00+00:00  134.14  ...  106239823      0.0          1.0\n",
              "1256   AAPL  2021-02-02 00:00:00+00:00  134.99  ...   82266419      0.0          1.0\n",
              "\n",
              "[5 rows x 14 columns]"
            ]
          },
          "metadata": {
            "tags": []
          },
          "execution_count": 4
        }
      ]
    },
    {
      "cell_type": "code",
      "metadata": {
        "colab": {
          "base_uri": "https://localhost:8080/"
        },
        "id": "wZY0bz04ngzI",
        "outputId": "27f9e8de-9934-4547-b379-0253c8f422ea"
      },
      "source": [
        "df1=df.reset_index()['close']\r\n",
        "df1.head()"
      ],
      "execution_count": 6,
      "outputs": [
        {
          "output_type": "execute_result",
          "data": {
            "text/plain": [
              "0    94.02\n",
              "1    95.01\n",
              "2    94.99\n",
              "3    94.27\n",
              "4    93.70\n",
              "Name: close, dtype: float64"
            ]
          },
          "metadata": {
            "tags": []
          },
          "execution_count": 6
        }
      ]
    },
    {
      "cell_type": "code",
      "metadata": {
        "colab": {
          "base_uri": "https://localhost:8080/",
          "height": 282
        },
        "id": "9f6uLp6bnz1S",
        "outputId": "7888a7e1-131e-4d95-c32c-afc4e22eca68"
      },
      "source": [
        "import matplotlib.pyplot as plt\r\n",
        "plt.plot(df1)"
      ],
      "execution_count": 7,
      "outputs": [
        {
          "output_type": "execute_result",
          "data": {
            "text/plain": [
              "[<matplotlib.lines.Line2D at 0x7f76a40abdd8>]"
            ]
          },
          "metadata": {
            "tags": []
          },
          "execution_count": 7
        },
        {
          "output_type": "display_data",
          "data": {
            "image/png": "[encoded data removed]",
            "text/plain": [
              "<Figure size 432x288 with 1 Axes>"
            ]
          },
          "metadata": {
            "tags": [],
            "needs_background": "light"
          }
        }
      ]
    },
    {
      "cell_type": "code",
      "metadata": {
        "colab": {
          "base_uri": "https://localhost:8080/"
        },
        "id": "fXIxDMDen90t",
        "outputId": "86b42416-673d-4a94-98d2-67a38d8764be"
      },
      "source": [
        "import numpy as np\r\n",
        "from sklearn.preprocessing import MinMaxScaler\r\n",
        "scaler=MinMaxScaler(feature_range=(0,1))\r\n",
        "df1=scaler.fit_transform(np.array(df1).reshape(-1,1))\r\n",
        "df1"
      ],
      "execution_count": 10,
      "outputs": [
        {
          "output_type": "execute_result",
          "data": {
            "text/plain": [
              "array([[0.00885147],\n",
              "       [0.01123271],\n",
              "       [0.01118461],\n",
              "       ...,\n",
              "       [0.10010824],\n",
              "       [0.10535177],\n",
              "       [0.10739627]])"
            ]
          },
          "metadata": {
            "tags": []
          },
          "execution_count": 10
        }
      ]
    },
    {
      "cell_type": "code",
      "metadata": {
        "id": "yv0PO9CaoUZO"
      },
      "source": [
        "##splitting dataset into train and test split\r\n",
        "training_size=int(len(df1)*0.7)\r\n",
        "test_size=len(df1)-training_size\r\n",
        "train_data,test_data=df1[0:training_size,:],df1[training_size:len(df1),:1]"
      ],
      "execution_count": 11,
      "outputs": []
    },
    {
      "cell_type": "code",
      "metadata": {
        "colab": {
          "base_uri": "https://localhost:8080/"
        },
        "id": "9D5TR4_Goa7R",
        "outputId": "91251c57-7fd2-4d4e-8fb4-056707295bdd"
      },
      "source": [
        "train_data=np.array(train_data)\r\n",
        "test_data=np.array(test_data)\r\n",
        "training_size,test_size"
      ],
      "execution_count": 21,
      "outputs": [
        {
          "output_type": "execute_result",
          "data": {
            "text/plain": [
              "(879, 378)"
            ]
          },
          "metadata": {
            "tags": []
          },
          "execution_count": 21
        }
      ]
    },
    {
      "cell_type": "code",
      "metadata": {
        "colab": {
          "base_uri": "https://localhost:8080/"
        },
        "id": "rlavdB35ojIc",
        "outputId": "0a7c66ae-6f91-451c-9f69-d64671bd1596"
      },
      "source": [
        "train_data[0:5]"
      ],
      "execution_count": 22,
      "outputs": [
        {
          "output_type": "execute_result",
          "data": {
            "text/plain": [
              "array([[0.00885147],\n",
              "       [0.01123271],\n",
              "       [0.01118461],\n",
              "       [0.0094528 ],\n",
              "       [0.00808178]])"
            ]
          },
          "metadata": {
            "tags": []
          },
          "execution_count": 22
        }
      ]
    },
    {
      "cell_type": "code",
      "metadata": {
        "id": "7WaRPorkov_i"
      },
      "source": [
        "import numpy as np\r\n",
        "# convert an array of values into a dataset matrix\r\n",
        "def create_dataset(dataset, time_step=1):\r\n",
        "\tdataX, dataY = [], []\r\n",
        "\tfor i in range(len(dataset)-time_step-1):\r\n",
        "\t\ta = dataset[i:(i+time_step), 0]   ###i=0, 0,1,2,3-----99   100 \r\n",
        "\t\tdataX.append(a)\r\n",
        "\t\tdataY.append(dataset[i + time_step, 0])\r\n",
        "\treturn np.array(dataX), np.array(dataY)"
      ],
      "execution_count": 25,
      "outputs": []
    },
    {
      "cell_type": "code",
      "metadata": {
        "id": "LR4aCUiqo2dX"
      },
      "source": [
        "import numpy as np\r\n",
        "# reshape into X=t,t+1,t+2,t+3 and Y=t+4\r\n",
        "time_step = 100\r\n",
        "X_train, y_train = create_dataset(train_data, time_step)\r\n",
        "X_test, ytest = create_dataset(test_data, time_step)"
      ],
      "execution_count": 26,
      "outputs": []
    },
    {
      "cell_type": "code",
      "metadata": {
        "colab": {
          "base_uri": "https://localhost:8080/"
        },
        "id": "YRi_VqgUsXFZ",
        "outputId": "0e9a23a3-b604-41fb-ccf7-020633985673"
      },
      "source": [
        "print(X_train.shape), print(y_train.shape)"
      ],
      "execution_count": 27,
      "outputs": [
        {
          "output_type": "stream",
          "text": [
            "(778, 100)\n",
            "(778,)\n"
          ],
          "name": "stdout"
        },
        {
          "output_type": "execute_result",
          "data": {
            "text/plain": [
              "(None, None)"
            ]
          },
          "metadata": {
            "tags": []
          },
          "execution_count": 27
        }
      ]
    },
    {
      "cell_type": "code",
      "metadata": {
        "colab": {
          "base_uri": "https://localhost:8080/"
        },
        "id": "M392WJeUsZSN",
        "outputId": "cd9e8320-5646-4697-e2b9-d5a1e9e83333"
      },
      "source": [
        "print(X_test.shape), print(ytest.shape)"
      ],
      "execution_count": 28,
      "outputs": [
        {
          "output_type": "stream",
          "text": [
            "(277, 100)\n",
            "(277,)\n"
          ],
          "name": "stdout"
        },
        {
          "output_type": "execute_result",
          "data": {
            "text/plain": [
              "(None, None)"
            ]
          },
          "metadata": {
            "tags": []
          },
          "execution_count": 28
        }
      ]
    },
    {
      "cell_type": "code",
      "metadata": {
        "id": "PsYHlA_Isdjp"
      },
      "source": [
        "# reshape input to be [samples, time steps, features] which is required for LSTM\r\n",
        "X_train =X_train.reshape(X_train.shape[0],X_train.shape[1] , 1)\r\n",
        "X_test = X_test.reshape(X_test.shape[0],X_test.shape[1] , 1)"
      ],
      "execution_count": 29,
      "outputs": []
    },
    {
      "cell_type": "code",
      "metadata": {
        "id": "8UlQ1ldFsgsG"
      },
      "source": [
        "## Create the Stacked LSTM model\r\n",
        "from tensorflow.keras.models import Sequential\r\n",
        "from tensorflow.keras.layers import Dense\r\n",
        "from tensorflow.keras.layers import LSTM"
      ],
      "execution_count": 30,
      "outputs": []
    },
    {
      "cell_type": "code",
      "metadata": {
        "colab": {
          "base_uri": "https://localhost:8080/"
        },
        "id": "A0k8enlwsjK6",
        "outputId": "32546219-dfbd-4f00-e06a-d8b0768c7c9c"
      },
      "source": [
        "model=Sequential()\r\n",
        "model.add(LSTM(50,return_sequences=True,input_shape=(100,1)))\r\n",
        "model.add(LSTM(50,return_sequences=True))\r\n",
        "model.add(LSTM(50))\r\n",
        "model.add(Dense(1))\r\n",
        "model.compile(loss='mean_squared_error',optimizer='adam')\r\n",
        "model.summary()"
      ],
      "execution_count": 31,
      "outputs": [
        {
          "output_type": "stream",
          "text": [
            "Model: \"sequential\"\n",
            "_________________________________________________________________\n",
            "Layer (type)                 Output Shape              Param #   \n",
            "=================================================================\n",
            "lstm (LSTM)                  (None, 100, 50)           10400     \n",
            "_________________________________________________________________\n",
            "lstm_1 (LSTM)                (None, 100, 50)           20200     \n",
            "_________________________________________________________________\n",
            "lstm_2 (LSTM)                (None, 50)                20200     \n",
            "_________________________________________________________________\n",
            "dense (Dense)                (None, 1)                 51        \n",
            "=================================================================\n",
            "Total params: 50,851\n",
            "Trainable params: 50,851\n",
            "Non-trainable params: 0\n",
            "_________________________________________________________________\n"
          ],
          "name": "stdout"
        }
      ]
    },
    {
      "cell_type": "code",
      "metadata": {
        "colab": {
          "base_uri": "https://localhost:8080/"
        },
        "id": "t7BLmNKPso2w",
        "outputId": "09868329-3d74-4b73-d93d-9eb254434250"
      },
      "source": [
        "model.fit(X_train,y_train,validation_data=(X_test,ytest),epochs=100,batch_size=64,verbose=1)"
      ],
      "execution_count": 32,
      "outputs": [
        {
          "output_type": "stream",
          "text": [
            "Epoch 1/100\n",
            "13/13 [==============================] - 9s 300ms/step - loss: 0.0188 - val_loss: 0.0602\n",
            "Epoch 2/100\n",
            "13/13 [==============================] - 3s 192ms/step - loss: 0.0030 - val_loss: 0.0295\n",
            "Epoch 3/100\n",
            "13/13 [==============================] - 2s 192ms/step - loss: 0.0010 - val_loss: 0.0257\n",
            "Epoch 4/100\n",
            "13/13 [==============================] - 2s 191ms/step - loss: 5.1699e-04 - val_loss: 0.0259\n",
            "Epoch 5/100\n",
            "13/13 [==============================] - 2s 192ms/step - loss: 4.0954e-04 - val_loss: 0.0237\n",
            "Epoch 6/100\n",
            "13/13 [==============================] - 3s 193ms/step - loss: 3.9170e-04 - val_loss: 0.0230\n",
            "Epoch 7/100\n",
            "13/13 [==============================] - 3s 194ms/step - loss: 3.4675e-04 - val_loss: 0.0225\n",
            "Epoch 8/100\n",
            "13/13 [==============================] - 2s 193ms/step - loss: 3.3555e-04 - val_loss: 0.0217\n",
            "Epoch 9/100\n",
            "13/13 [==============================] - 3s 195ms/step - loss: 3.1214e-04 - val_loss: 0.0210\n",
            "Epoch 10/100\n",
            "13/13 [==============================] - 3s 195ms/step - loss: 3.1902e-04 - val_loss: 0.0202\n",
            "Epoch 11/100\n",
            "13/13 [==============================] - 3s 197ms/step - loss: 3.0140e-04 - val_loss: 0.0194\n",
            "Epoch 12/100\n",
            "13/13 [==============================] - 3s 195ms/step - loss: 3.2178e-04 - val_loss: 0.0186\n",
            "Epoch 13/100\n",
            "13/13 [==============================] - 3s 197ms/step - loss: 2.8262e-04 - val_loss: 0.0177\n",
            "Epoch 14/100\n",
            "13/13 [==============================] - 3s 199ms/step - loss: 2.7750e-04 - val_loss: 0.0169\n",
            "Epoch 15/100\n",
            "13/13 [==============================] - 3s 197ms/step - loss: 2.2814e-04 - val_loss: 0.0175\n",
            "Epoch 16/100\n",
            "13/13 [==============================] - 3s 197ms/step - loss: 2.3857e-04 - val_loss: 0.0174\n",
            "Epoch 17/100\n",
            "13/13 [==============================] - 3s 199ms/step - loss: 2.3029e-04 - val_loss: 0.0178\n",
            "Epoch 18/100\n",
            "13/13 [==============================] - 3s 197ms/step - loss: 2.2617e-04 - val_loss: 0.0177\n",
            "Epoch 19/100\n",
            "13/13 [==============================] - 3s 201ms/step - loss: 2.2801e-04 - val_loss: 0.0186\n",
            "Epoch 20/100\n",
            "13/13 [==============================] - 3s 199ms/step - loss: 1.8826e-04 - val_loss: 0.0177\n",
            "Epoch 21/100\n",
            "13/13 [==============================] - 3s 202ms/step - loss: 2.1195e-04 - val_loss: 0.0190\n",
            "Epoch 22/100\n",
            "13/13 [==============================] - 3s 198ms/step - loss: 2.4384e-04 - val_loss: 0.0177\n",
            "Epoch 23/100\n",
            "13/13 [==============================] - 3s 198ms/step - loss: 2.0991e-04 - val_loss: 0.0140\n",
            "Epoch 24/100\n",
            "13/13 [==============================] - 3s 196ms/step - loss: 2.4017e-04 - val_loss: 0.0156\n",
            "Epoch 25/100\n",
            "13/13 [==============================] - 3s 197ms/step - loss: 2.1710e-04 - val_loss: 0.0171\n",
            "Epoch 26/100\n",
            "13/13 [==============================] - 3s 201ms/step - loss: 3.1839e-04 - val_loss: 0.0132\n",
            "Epoch 27/100\n",
            "13/13 [==============================] - 3s 198ms/step - loss: 2.6705e-04 - val_loss: 0.0140\n",
            "Epoch 28/100\n",
            "13/13 [==============================] - 3s 197ms/step - loss: 1.8661e-04 - val_loss: 0.0156\n",
            "Epoch 29/100\n",
            "13/13 [==============================] - 3s 201ms/step - loss: 1.9480e-04 - val_loss: 0.0142\n",
            "Epoch 30/100\n",
            "13/13 [==============================] - 3s 200ms/step - loss: 1.8942e-04 - val_loss: 0.0154\n",
            "Epoch 31/100\n",
            "13/13 [==============================] - 3s 201ms/step - loss: 1.9092e-04 - val_loss: 0.0141\n",
            "Epoch 32/100\n",
            "13/13 [==============================] - 3s 199ms/step - loss: 1.7547e-04 - val_loss: 0.0160\n",
            "Epoch 33/100\n",
            "13/13 [==============================] - 3s 202ms/step - loss: 1.7852e-04 - val_loss: 0.0135\n",
            "Epoch 34/100\n",
            "13/13 [==============================] - 3s 199ms/step - loss: 1.9658e-04 - val_loss: 0.0138\n",
            "Epoch 35/100\n",
            "13/13 [==============================] - 3s 202ms/step - loss: 2.0096e-04 - val_loss: 0.0153\n",
            "Epoch 36/100\n",
            "13/13 [==============================] - 3s 204ms/step - loss: 1.9001e-04 - val_loss: 0.0134\n",
            "Epoch 37/100\n",
            "13/13 [==============================] - 3s 202ms/step - loss: 1.7897e-04 - val_loss: 0.0135\n",
            "Epoch 38/100\n",
            "13/13 [==============================] - 3s 199ms/step - loss: 1.7911e-04 - val_loss: 0.0151\n",
            "Epoch 39/100\n",
            "13/13 [==============================] - 3s 200ms/step - loss: 1.9955e-04 - val_loss: 0.0134\n",
            "Epoch 40/100\n",
            "13/13 [==============================] - 3s 200ms/step - loss: 1.4978e-04 - val_loss: 0.0134\n",
            "Epoch 41/100\n",
            "13/13 [==============================] - 3s 198ms/step - loss: 1.6256e-04 - val_loss: 0.0138\n",
            "Epoch 42/100\n",
            "13/13 [==============================] - 3s 203ms/step - loss: 1.5674e-04 - val_loss: 0.0129\n",
            "Epoch 43/100\n",
            "13/13 [==============================] - 3s 202ms/step - loss: 1.7413e-04 - val_loss: 0.0155\n",
            "Epoch 44/100\n",
            "13/13 [==============================] - 3s 201ms/step - loss: 1.5622e-04 - val_loss: 0.0133\n",
            "Epoch 45/100\n",
            "13/13 [==============================] - 3s 200ms/step - loss: 1.6499e-04 - val_loss: 0.0130\n",
            "Epoch 46/100\n",
            "13/13 [==============================] - 3s 202ms/step - loss: 1.5833e-04 - val_loss: 0.0130\n",
            "Epoch 47/100\n",
            "13/13 [==============================] - 3s 201ms/step - loss: 1.7569e-04 - val_loss: 0.0147\n",
            "Epoch 48/100\n",
            "13/13 [==============================] - 3s 202ms/step - loss: 1.8444e-04 - val_loss: 0.0151\n",
            "Epoch 49/100\n",
            "13/13 [==============================] - 3s 201ms/step - loss: 2.2145e-04 - val_loss: 0.0121\n",
            "Epoch 50/100\n",
            "13/13 [==============================] - 3s 202ms/step - loss: 1.7006e-04 - val_loss: 0.0128\n",
            "Epoch 51/100\n",
            "13/13 [==============================] - 3s 202ms/step - loss: 1.5968e-04 - val_loss: 0.0130\n",
            "Epoch 52/100\n",
            "13/13 [==============================] - 3s 201ms/step - loss: 1.3981e-04 - val_loss: 0.0140\n",
            "Epoch 53/100\n",
            "13/13 [==============================] - 3s 201ms/step - loss: 1.3915e-04 - val_loss: 0.0128\n",
            "Epoch 54/100\n",
            "13/13 [==============================] - 3s 201ms/step - loss: 1.3750e-04 - val_loss: 0.0124\n",
            "Epoch 55/100\n",
            "13/13 [==============================] - 3s 199ms/step - loss: 1.4781e-04 - val_loss: 0.0135\n",
            "Epoch 56/100\n",
            "13/13 [==============================] - 3s 203ms/step - loss: 1.3205e-04 - val_loss: 0.0116\n",
            "Epoch 57/100\n",
            "13/13 [==============================] - 3s 200ms/step - loss: 1.5995e-04 - val_loss: 0.0130\n",
            "Epoch 58/100\n",
            "13/13 [==============================] - 3s 202ms/step - loss: 1.2311e-04 - val_loss: 0.0121\n",
            "Epoch 59/100\n",
            "13/13 [==============================] - 3s 196ms/step - loss: 1.3762e-04 - val_loss: 0.0116\n",
            "Epoch 60/100\n",
            "13/13 [==============================] - 3s 199ms/step - loss: 1.6873e-04 - val_loss: 0.0128\n",
            "Epoch 61/100\n",
            "13/13 [==============================] - 3s 218ms/step - loss: 1.5874e-04 - val_loss: 0.0113\n",
            "Epoch 62/100\n",
            "13/13 [==============================] - 3s 212ms/step - loss: 1.2908e-04 - val_loss: 0.0111\n",
            "Epoch 63/100\n",
            "13/13 [==============================] - 3s 218ms/step - loss: 1.1084e-04 - val_loss: 0.0111\n",
            "Epoch 64/100\n",
            "13/13 [==============================] - 3s 216ms/step - loss: 1.4576e-04 - val_loss: 0.0108\n",
            "Epoch 65/100\n",
            "13/13 [==============================] - 3s 208ms/step - loss: 1.1373e-04 - val_loss: 0.0116\n",
            "Epoch 66/100\n",
            "13/13 [==============================] - 3s 204ms/step - loss: 1.1002e-04 - val_loss: 0.0095\n",
            "Epoch 67/100\n",
            "13/13 [==============================] - 3s 204ms/step - loss: 1.1790e-04 - val_loss: 0.0121\n",
            "Epoch 68/100\n",
            "13/13 [==============================] - 3s 202ms/step - loss: 1.2576e-04 - val_loss: 0.0117\n",
            "Epoch 69/100\n",
            "13/13 [==============================] - 3s 202ms/step - loss: 1.1089e-04 - val_loss: 0.0095\n",
            "Epoch 70/100\n",
            "13/13 [==============================] - 3s 204ms/step - loss: 1.0433e-04 - val_loss: 0.0096\n",
            "Epoch 71/100\n",
            "13/13 [==============================] - 3s 203ms/step - loss: 1.0704e-04 - val_loss: 0.0122\n",
            "Epoch 72/100\n",
            "13/13 [==============================] - 3s 201ms/step - loss: 1.0108e-04 - val_loss: 0.0102\n",
            "Epoch 73/100\n",
            "13/13 [==============================] - 3s 203ms/step - loss: 1.2658e-04 - val_loss: 0.0118\n",
            "Epoch 74/100\n",
            "13/13 [==============================] - 3s 200ms/step - loss: 1.2159e-04 - val_loss: 0.0092\n",
            "Epoch 75/100\n",
            "13/13 [==============================] - 3s 201ms/step - loss: 1.0957e-04 - val_loss: 0.0088\n",
            "Epoch 76/100\n",
            "13/13 [==============================] - 3s 204ms/step - loss: 1.4551e-04 - val_loss: 0.0097\n",
            "Epoch 77/100\n",
            "13/13 [==============================] - 3s 202ms/step - loss: 1.1846e-04 - val_loss: 0.0102\n",
            "Epoch 78/100\n",
            "13/13 [==============================] - 3s 202ms/step - loss: 1.1647e-04 - val_loss: 0.0091\n",
            "Epoch 79/100\n",
            "13/13 [==============================] - 3s 204ms/step - loss: 9.9798e-05 - val_loss: 0.0088\n",
            "Epoch 80/100\n",
            "13/13 [==============================] - 3s 203ms/step - loss: 1.1262e-04 - val_loss: 0.0084\n",
            "Epoch 81/100\n",
            "13/13 [==============================] - 3s 202ms/step - loss: 1.0100e-04 - val_loss: 0.0084\n",
            "Epoch 82/100\n",
            "13/13 [==============================] - 3s 201ms/step - loss: 9.9682e-05 - val_loss: 0.0087\n",
            "Epoch 83/100\n",
            "13/13 [==============================] - 3s 206ms/step - loss: 9.6926e-05 - val_loss: 0.0079\n",
            "Epoch 84/100\n",
            "13/13 [==============================] - 3s 203ms/step - loss: 9.9812e-05 - val_loss: 0.0076\n",
            "Epoch 85/100\n",
            "13/13 [==============================] - 3s 203ms/step - loss: 9.4106e-05 - val_loss: 0.0074\n",
            "Epoch 86/100\n",
            "13/13 [==============================] - 3s 202ms/step - loss: 9.2832e-05 - val_loss: 0.0072\n",
            "Epoch 87/100\n",
            "13/13 [==============================] - 3s 209ms/step - loss: 8.5690e-05 - val_loss: 0.0072\n",
            "Epoch 88/100\n",
            "13/13 [==============================] - 3s 215ms/step - loss: 1.1774e-04 - val_loss: 0.0065\n",
            "Epoch 89/100\n",
            "13/13 [==============================] - 3s 215ms/step - loss: 9.1170e-05 - val_loss: 0.0072\n",
            "Epoch 90/100\n",
            "13/13 [==============================] - 3s 207ms/step - loss: 9.0470e-05 - val_loss: 0.0067\n",
            "Epoch 91/100\n",
            "13/13 [==============================] - 3s 203ms/step - loss: 9.1112e-05 - val_loss: 0.0067\n",
            "Epoch 92/100\n",
            "13/13 [==============================] - 3s 200ms/step - loss: 1.1245e-04 - val_loss: 0.0064\n",
            "Epoch 93/100\n",
            "13/13 [==============================] - 3s 202ms/step - loss: 9.5727e-05 - val_loss: 0.0066\n",
            "Epoch 94/100\n",
            "13/13 [==============================] - 3s 202ms/step - loss: 8.1890e-05 - val_loss: 0.0067\n",
            "Epoch 95/100\n",
            "13/13 [==============================] - 3s 202ms/step - loss: 9.8969e-05 - val_loss: 0.0059\n",
            "Epoch 96/100\n",
            "13/13 [==============================] - 3s 204ms/step - loss: 1.0427e-04 - val_loss: 0.0063\n",
            "Epoch 97/100\n",
            "13/13 [==============================] - 3s 204ms/step - loss: 9.3458e-05 - val_loss: 0.0064\n",
            "Epoch 98/100\n",
            "13/13 [==============================] - 3s 205ms/step - loss: 9.2025e-05 - val_loss: 0.0058\n",
            "Epoch 99/100\n",
            "13/13 [==============================] - 3s 203ms/step - loss: 9.2977e-05 - val_loss: 0.0061\n",
            "Epoch 100/100\n",
            "13/13 [==============================] - 3s 205ms/step - loss: 1.1957e-04 - val_loss: 0.0057\n"
          ],
          "name": "stdout"
        },
        {
          "output_type": "execute_result",
          "data": {
            "text/plain": [
              "<tensorflow.python.keras.callbacks.History at 0x7f7657e15908>"
            ]
          },
          "metadata": {
            "tags": []
          },
          "execution_count": 32
        }
      ]
    },
    {
      "cell_type": "code",
      "metadata": {
        "colab": {
          "base_uri": "https://localhost:8080/"
        },
        "id": "_eFoL9LRtHRI",
        "outputId": "3d46cfd1-f00f-4d98-e336-8c10e31797aa"
      },
      "source": [
        "### Lets Do the prediction and check performance metrics\r\n",
        "train_predict=model.predict(X_train)\r\n",
        "test_predict=model.predict(X_test)\r\n",
        "from sklearn.metrics import mean_squared_error\r\n",
        "print(math.sqrt(mean_squared_error(y_train,train_predict)))\r\n",
        "print(math.sqrt(mean_squared_error(ytest,test_predict)))"
      ],
      "execution_count": 43,
      "outputs": [
        {
          "output_type": "stream",
          "text": [
            "0.009046532992886443\n",
            "0.07577802012830209\n"
          ],
          "name": "stdout"
        }
      ]
    },
    {
      "cell_type": "code",
      "metadata": {
        "colab": {
          "base_uri": "https://localhost:8080/"
        },
        "id": "QXGyTEpotHZ8",
        "outputId": "7dc9b8c4-8819-488d-acd6-131095235def"
      },
      "source": [
        "##Transformback to original form\r\n",
        "train_predict=scaler.inverse_transform(train_predict)\r\n",
        "test_predict=scaler.inverse_transform(test_predict)\r\n",
        "from sklearn.metrics import mean_squared_error\r\n",
        "math.sqrt(mean_squared_error(y_train,train_predict))"
      ],
      "execution_count": 39,
      "outputs": [
        {
          "output_type": "execute_result",
          "data": {
            "text/plain": [
              "0.009046532992886443"
            ]
          },
          "metadata": {
            "tags": []
          },
          "execution_count": 39
        }
      ]
    },
    {
      "cell_type": "code",
      "metadata": {
        "colab": {
          "base_uri": "https://localhost:8080/"
        },
        "id": "mvgGq-3rs4Bm",
        "outputId": "a829221e-7ef8-4fb4-bc88-cb49b5149da0"
      },
      "source": [
        "### Test Data RMSE\r\n",
        "math.sqrt(mean_squared_error(ytest,test_predict))"
      ],
      "execution_count": 40,
      "outputs": [
        {
          "output_type": "execute_result",
          "data": {
            "text/plain": [
              "0.07577802012830209"
            ]
          },
          "metadata": {
            "tags": []
          },
          "execution_count": 40
        }
      ]
    },
    {
      "cell_type": "code",
      "metadata": {
        "colab": {
          "base_uri": "https://localhost:8080/",
          "height": 264
        },
        "id": "PKlqtogOs6W7",
        "outputId": "c2c69415-bc94-477d-a50d-f0090cd245c4"
      },
      "source": [
        "### Plotting \r\n",
        "# shift train predictions for plotting\r\n",
        "import numpy\r\n",
        "look_back=100\r\n",
        "trainPredictPlot = numpy.empty_like(df1)\r\n",
        "trainPredictPlot[:, :] = np.nan\r\n",
        "trainPredictPlot[look_back:len(train_predict)+look_back, :] = train_predict\r\n",
        "# shift test predictions for plotting\r\n",
        "testPredictPlot = numpy.empty_like(df1)\r\n",
        "testPredictPlot[:, :] = numpy.nan\r\n",
        "testPredictPlot[len(train_predict)+(look_back*2)+1:len(df1)-1, :] = test_predict\r\n",
        "# plot baseline and predictions\r\n",
        "plt.plot(scaler.inverse_transform(df1))\r\n",
        "plt.plot((df1))\r\n",
        "plt.plot(trainPredictPlot)\r\n",
        "plt.plot(testPredictPlot)\r\n",
        "plt.show()"
      ],
      "execution_count": 48,
      "outputs": [
        {
          "output_type": "display_data",
          "data": {
            "image/png": "[encoded data removed]",
            "text/plain": [
              "<Figure size 432x288 with 1 Axes>"
            ]
          },
          "metadata": {
            "tags": [],
            "needs_background": "light"
          }
        }
      ]
    },
    {
      "cell_type": "code",
      "metadata": {
        "colab": {
          "base_uri": "https://localhost:8080/"
        },
        "id": "AnTZsfKpsvEx",
        "outputId": "45a539a1-73c4-4f93-cc47-fac703c828ab"
      },
      "source": [
        "len(test_data)"
      ],
      "execution_count": 49,
      "outputs": [
        {
          "output_type": "execute_result",
          "data": {
            "text/plain": [
              "378"
            ]
          },
          "metadata": {
            "tags": []
          },
          "execution_count": 49
        }
      ]
    },
    {
      "cell_type": "code",
      "metadata": {
        "colab": {
          "base_uri": "https://localhost:8080/"
        },
        "id": "WNg_meiRsx0l",
        "outputId": "19fbb1a6-3e29-4973-ec52-b63fa4e6114e"
      },
      "source": [
        "x_input=test_data[278:].reshape(1,-1)\r\n",
        "x_input.shape"
      ],
      "execution_count": 66,
      "outputs": [
        {
          "output_type": "execute_result",
          "data": {
            "text/plain": [
              "(1, 100)"
            ]
          },
          "metadata": {
            "tags": []
          },
          "execution_count": 66
        }
      ]
    },
    {
      "cell_type": "code",
      "metadata": {
        "colab": {
          "base_uri": "https://localhost:8080/"
        },
        "id": "JQv_oSuwtfwl",
        "outputId": "6ebd8329-db63-45ab-e4b0-7c142c964ea1"
      },
      "source": [
        "temp_input=list(x_input)\r\n",
        "temp_input=temp_input[0].tolist()\r\n",
        "temp_input[0:5]"
      ],
      "execution_count": 67,
      "outputs": [
        {
          "output_type": "execute_result",
          "data": {
            "text/plain": [
              "[0.055682501503307225,\n",
              " 0.052098616957306054,\n",
              " 0.0601683704149128,\n",
              " 0.06061334936861096,\n",
              " 0.05241130487071555]"
            ]
          },
          "metadata": {
            "tags": []
          },
          "execution_count": 67
        }
      ]
    },
    {
      "cell_type": "code",
      "metadata": {
        "colab": {
          "base_uri": "https://localhost:8080/"
        },
        "id": "b2k5Jmfywen4",
        "outputId": "240ffa52-47ee-47db-df76-ded07471d836"
      },
      "source": [
        "# demonstrate prediction for next 10 days\r\n",
        "from numpy import array\r\n",
        "\r\n",
        "lst_output=[]\r\n",
        "n_steps=100\r\n",
        "i=0\r\n",
        "while(i<30):\r\n",
        "    \r\n",
        "    if(len(temp_input)>100):\r\n",
        "        #print(temp_input)\r\n",
        "        x_input=np.array(temp_input[1:])\r\n",
        "        print(\"{} day input {}\".format(i,x_input))\r\n",
        "        x_input=x_input.reshape(1,-1)\r\n",
        "        x_input = x_input.reshape((1, n_steps, 1))\r\n",
        "        #print(x_input)\r\n",
        "        yhat = model.predict(x_input, verbose=0)\r\n",
        "        print(\"{} day output {}\".format(i,yhat))\r\n",
        "        temp_input.extend(yhat[0].tolist())\r\n",
        "        temp_input=temp_input[1:]\r\n",
        "        #print(temp_input)\r\n",
        "        lst_output.extend(yhat.tolist())\r\n",
        "        i=i+1\r\n",
        "    else:\r\n",
        "        x_input = x_input.reshape((1, n_steps,1))\r\n",
        "        yhat = model.predict(x_input, verbose=0)\r\n",
        "        print(yhat[0])\r\n",
        "        temp_input.extend(yhat[0].tolist())\r\n",
        "        print(len(temp_input))\r\n",
        "        lst_output.extend(yhat.tolist())\r\n",
        "        i=i+1\r\n",
        "    \r\n",
        "\r\n",
        "lst_output[0:5]"
      ],
      "execution_count": 71,
      "outputs": [
        {
          "output_type": "stream",
          "text": [
            "[0.11155286]\n",
            "101\n",
            "1 day input [0.05209862 0.06016837 0.06061335 0.0524113  0.04810583 0.03968731\n",
            " 0.04748046 0.05164161 0.04036079 0.04300661 0.0527721  0.05921828\n",
            " 0.05712568 0.06126278 0.06361996 0.05455201 0.06292243 0.05488876\n",
            " 0.05950692 0.05924233 0.06405292 0.08192423 0.07398677 0.07420325\n",
            " 0.07304871 0.06898376 0.06167168 0.06535177 0.06381239 0.06111846\n",
            " 0.0594107  0.05943476 0.06316296 0.05017438 0.06008419 0.044546\n",
            " 0.04432952 0.04834636 0.05919423 0.06900782 0.06819002 0.06248948\n",
            " 0.06164762 0.07011425 0.06944077 0.06956103 0.07206254 0.06987372\n",
            " 0.06660253 0.06806975 0.06494287 0.05654841 0.05972339 0.06179194\n",
            " 0.06313891 0.06905592 0.07788334 0.07874925 0.07841251 0.07675286\n",
            " 0.08036079 0.08187613 0.07562237 0.0791341  0.0771377  0.07562237\n",
            " 0.09029465 0.09012628 0.09226699 0.08734817 0.0911365  0.09991581\n",
            " 0.09770295 0.10013229 0.11148527 0.10710764 0.10434155 0.1018641\n",
            " 0.09397474 0.09782321 0.08721587 0.09760673 0.10032471 0.09294047\n",
            " 0.09250752 0.09753458 0.0927721  0.08851473 0.09017438 0.10027661\n",
            " 0.11191822 0.11720986 0.12647023 0.1270475  0.12440168 0.11244738\n",
            " 0.10010824 0.10535177 0.10739627 0.11155286]\n",
            "1 day output [[0.10804994]]\n",
            "2 day input [0.06016837 0.06061335 0.0524113  0.04810583 0.03968731 0.04748046\n",
            " 0.05164161 0.04036079 0.04300661 0.0527721  0.05921828 0.05712568\n",
            " 0.06126278 0.06361996 0.05455201 0.06292243 0.05488876 0.05950692\n",
            " 0.05924233 0.06405292 0.08192423 0.07398677 0.07420325 0.07304871\n",
            " 0.06898376 0.06167168 0.06535177 0.06381239 0.06111846 0.0594107\n",
            " 0.05943476 0.06316296 0.05017438 0.06008419 0.044546   0.04432952\n",
            " 0.04834636 0.05919423 0.06900782 0.06819002 0.06248948 0.06164762\n",
            " 0.07011425 0.06944077 0.06956103 0.07206254 0.06987372 0.06660253\n",
            " 0.06806975 0.06494287 0.05654841 0.05972339 0.06179194 0.06313891\n",
            " 0.06905592 0.07788334 0.07874925 0.07841251 0.07675286 0.08036079\n",
            " 0.08187613 0.07562237 0.0791341  0.0771377  0.07562237 0.09029465\n",
            " 0.09012628 0.09226699 0.08734817 0.0911365  0.09991581 0.09770295\n",
            " 0.10013229 0.11148527 0.10710764 0.10434155 0.1018641  0.09397474\n",
            " 0.09782321 0.08721587 0.09760673 0.10032471 0.09294047 0.09250752\n",
            " 0.09753458 0.0927721  0.08851473 0.09017438 0.10027661 0.11191822\n",
            " 0.11720986 0.12647023 0.1270475  0.12440168 0.11244738 0.10010824\n",
            " 0.10535177 0.10739627 0.11155286 0.10804994]\n",
            "2 day output [[0.10621182]]\n",
            "3 day input [0.06061335 0.0524113  0.04810583 0.03968731 0.04748046 0.05164161\n",
            " 0.04036079 0.04300661 0.0527721  0.05921828 0.05712568 0.06126278\n",
            " 0.06361996 0.05455201 0.06292243 0.05488876 0.05950692 0.05924233\n",
            " 0.06405292 0.08192423 0.07398677 0.07420325 0.07304871 0.06898376\n",
            " 0.06167168 0.06535177 0.06381239 0.06111846 0.0594107  0.05943476\n",
            " 0.06316296 0.05017438 0.06008419 0.044546   0.04432952 0.04834636\n",
            " 0.05919423 0.06900782 0.06819002 0.06248948 0.06164762 0.07011425\n",
            " 0.06944077 0.06956103 0.07206254 0.06987372 0.06660253 0.06806975\n",
            " 0.06494287 0.05654841 0.05972339 0.06179194 0.06313891 0.06905592\n",
            " 0.07788334 0.07874925 0.07841251 0.07675286 0.08036079 0.08187613\n",
            " 0.07562237 0.0791341  0.0771377  0.07562237 0.09029465 0.09012628\n",
            " 0.09226699 0.08734817 0.0911365  0.09991581 0.09770295 0.10013229\n",
            " 0.11148527 0.10710764 0.10434155 0.1018641  0.09397474 0.09782321\n",
            " 0.08721587 0.09760673 0.10032471 0.09294047 0.09250752 0.09753458\n",
            " 0.0927721  0.08851473 0.09017438 0.10027661 0.11191822 0.11720986\n",
            " 0.12647023 0.1270475  0.12440168 0.11244738 0.10010824 0.10535177\n",
            " 0.10739627 0.11155286 0.10804994 0.10621182]\n",
            "3 day output [[0.10555323]]\n",
            "4 day input [0.0524113  0.04810583 0.03968731 0.04748046 0.05164161 0.04036079\n",
            " 0.04300661 0.0527721  0.05921828 0.05712568 0.06126278 0.06361996\n",
            " 0.05455201 0.06292243 0.05488876 0.05950692 0.05924233 0.06405292\n",
            " 0.08192423 0.07398677 0.07420325 0.07304871 0.06898376 0.06167168\n",
            " 0.06535177 0.06381239 0.06111846 0.0594107  0.05943476 0.06316296\n",
            " 0.05017438 0.06008419 0.044546   0.04432952 0.04834636 0.05919423\n",
            " 0.06900782 0.06819002 0.06248948 0.06164762 0.07011425 0.06944077\n",
            " 0.06956103 0.07206254 0.06987372 0.06660253 0.06806975 0.06494287\n",
            " 0.05654841 0.05972339 0.06179194 0.06313891 0.06905592 0.07788334\n",
            " 0.07874925 0.07841251 0.07675286 0.08036079 0.08187613 0.07562237\n",
            " 0.0791341  0.0771377  0.07562237 0.09029465 0.09012628 0.09226699\n",
            " 0.08734817 0.0911365  0.09991581 0.09770295 0.10013229 0.11148527\n",
            " 0.10710764 0.10434155 0.1018641  0.09397474 0.09782321 0.08721587\n",
            " 0.09760673 0.10032471 0.09294047 0.09250752 0.09753458 0.0927721\n",
            " 0.08851473 0.09017438 0.10027661 0.11191822 0.11720986 0.12647023\n",
            " 0.1270475  0.12440168 0.11244738 0.10010824 0.10535177 0.10739627\n",
            " 0.11155286 0.10804994 0.10621182 0.10555323]\n",
            "4 day output [[0.1055759]]\n",
            "5 day input [0.04810583 0.03968731 0.04748046 0.05164161 0.04036079 0.04300661\n",
            " 0.0527721  0.05921828 0.05712568 0.06126278 0.06361996 0.05455201\n",
            " 0.06292243 0.05488876 0.05950692 0.05924233 0.06405292 0.08192423\n",
            " 0.07398677 0.07420325 0.07304871 0.06898376 0.06167168 0.06535177\n",
            " 0.06381239 0.06111846 0.0594107  0.05943476 0.06316296 0.05017438\n",
            " 0.06008419 0.044546   0.04432952 0.04834636 0.05919423 0.06900782\n",
            " 0.06819002 0.06248948 0.06164762 0.07011425 0.06944077 0.06956103\n",
            " 0.07206254 0.06987372 0.06660253 0.06806975 0.06494287 0.05654841\n",
            " 0.05972339 0.06179194 0.06313891 0.06905592 0.07788334 0.07874925\n",
            " 0.07841251 0.07675286 0.08036079 0.08187613 0.07562237 0.0791341\n",
            " 0.0771377  0.07562237 0.09029465 0.09012628 0.09226699 0.08734817\n",
            " 0.0911365  0.09991581 0.09770295 0.10013229 0.11148527 0.10710764\n",
            " 0.10434155 0.1018641  0.09397474 0.09782321 0.08721587 0.09760673\n",
            " 0.10032471 0.09294047 0.09250752 0.09753458 0.0927721  0.08851473\n",
            " 0.09017438 0.10027661 0.11191822 0.11720986 0.12647023 0.1270475\n",
            " 0.12440168 0.11244738 0.10010824 0.10535177 0.10739627 0.11155286\n",
            " 0.10804994 0.10621182 0.10555323 0.1055759 ]\n",
            "5 day output [[0.10594195]]\n",
            "6 day input [0.03968731 0.04748046 0.05164161 0.04036079 0.04300661 0.0527721\n",
            " 0.05921828 0.05712568 0.06126278 0.06361996 0.05455201 0.06292243\n",
            " 0.05488876 0.05950692 0.05924233 0.06405292 0.08192423 0.07398677\n",
            " 0.07420325 0.07304871 0.06898376 0.06167168 0.06535177 0.06381239\n",
            " 0.06111846 0.0594107  0.05943476 0.06316296 0.05017438 0.06008419\n",
            " 0.044546   0.04432952 0.04834636 0.05919423 0.06900782 0.06819002\n",
            " 0.06248948 0.06164762 0.07011425 0.06944077 0.06956103 0.07206254\n",
            " 0.06987372 0.06660253 0.06806975 0.06494287 0.05654841 0.05972339\n",
            " 0.06179194 0.06313891 0.06905592 0.07788334 0.07874925 0.07841251\n",
            " 0.07675286 0.08036079 0.08187613 0.07562237 0.0791341  0.0771377\n",
            " 0.07562237 0.09029465 0.09012628 0.09226699 0.08734817 0.0911365\n",
            " 0.09991581 0.09770295 0.10013229 0.11148527 0.10710764 0.10434155\n",
            " 0.1018641  0.09397474 0.09782321 0.08721587 0.09760673 0.10032471\n",
            " 0.09294047 0.09250752 0.09753458 0.0927721  0.08851473 0.09017438\n",
            " 0.10027661 0.11191822 0.11720986 0.12647023 0.1270475  0.12440168\n",
            " 0.11244738 0.10010824 0.10535177 0.10739627 0.11155286 0.10804994\n",
            " 0.10621182 0.10555323 0.1055759  0.10594195]\n",
            "6 day output [[0.10646828]]\n",
            "7 day input [0.04748046 0.05164161 0.04036079 0.04300661 0.0527721  0.05921828\n",
            " 0.05712568 0.06126278 0.06361996 0.05455201 0.06292243 0.05488876\n",
            " 0.05950692 0.05924233 0.06405292 0.08192423 0.07398677 0.07420325\n",
            " 0.07304871 0.06898376 0.06167168 0.06535177 0.06381239 0.06111846\n",
            " 0.0594107  0.05943476 0.06316296 0.05017438 0.06008419 0.044546\n",
            " 0.04432952 0.04834636 0.05919423 0.06900782 0.06819002 0.06248948\n",
            " 0.06164762 0.07011425 0.06944077 0.06956103 0.07206254 0.06987372\n",
            " 0.06660253 0.06806975 0.06494287 0.05654841 0.05972339 0.06179194\n",
            " 0.06313891 0.06905592 0.07788334 0.07874925 0.07841251 0.07675286\n",
            " 0.08036079 0.08187613 0.07562237 0.0791341  0.0771377  0.07562237\n",
            " 0.09029465 0.09012628 0.09226699 0.08734817 0.0911365  0.09991581\n",
            " 0.09770295 0.10013229 0.11148527 0.10710764 0.10434155 0.1018641\n",
            " 0.09397474 0.09782321 0.08721587 0.09760673 0.10032471 0.09294047\n",
            " 0.09250752 0.09753458 0.0927721  0.08851473 0.09017438 0.10027661\n",
            " 0.11191822 0.11720986 0.12647023 0.1270475  0.12440168 0.11244738\n",
            " 0.10010824 0.10535177 0.10739627 0.11155286 0.10804994 0.10621182\n",
            " 0.10555323 0.1055759  0.10594195 0.10646828]\n",
            "7 day output [[0.10707022]]\n",
            "8 day input [0.05164161 0.04036079 0.04300661 0.0527721  0.05921828 0.05712568\n",
            " 0.06126278 0.06361996 0.05455201 0.06292243 0.05488876 0.05950692\n",
            " 0.05924233 0.06405292 0.08192423 0.07398677 0.07420325 0.07304871\n",
            " 0.06898376 0.06167168 0.06535177 0.06381239 0.06111846 0.0594107\n",
            " 0.05943476 0.06316296 0.05017438 0.06008419 0.044546   0.04432952\n",
            " 0.04834636 0.05919423 0.06900782 0.06819002 0.06248948 0.06164762\n",
            " 0.07011425 0.06944077 0.06956103 0.07206254 0.06987372 0.06660253\n",
            " 0.06806975 0.06494287 0.05654841 0.05972339 0.06179194 0.06313891\n",
            " 0.06905592 0.07788334 0.07874925 0.07841251 0.07675286 0.08036079\n",
            " 0.08187613 0.07562237 0.0791341  0.0771377  0.07562237 0.09029465\n",
            " 0.09012628 0.09226699 0.08734817 0.0911365  0.09991581 0.09770295\n",
            " 0.10013229 0.11148527 0.10710764 0.10434155 0.1018641  0.09397474\n",
            " 0.09782321 0.08721587 0.09760673 0.10032471 0.09294047 0.09250752\n",
            " 0.09753458 0.0927721  0.08851473 0.09017438 0.10027661 0.11191822\n",
            " 0.11720986 0.12647023 0.1270475  0.12440168 0.11244738 0.10010824\n",
            " 0.10535177 0.10739627 0.11155286 0.10804994 0.10621182 0.10555323\n",
            " 0.1055759  0.10594195 0.10646828 0.10707022]\n",
            "8 day output [[0.10771034]]\n",
            "9 day input [0.04036079 0.04300661 0.0527721  0.05921828 0.05712568 0.06126278\n",
            " 0.06361996 0.05455201 0.06292243 0.05488876 0.05950692 0.05924233\n",
            " 0.06405292 0.08192423 0.07398677 0.07420325 0.07304871 0.06898376\n",
            " 0.06167168 0.06535177 0.06381239 0.06111846 0.0594107  0.05943476\n",
            " 0.06316296 0.05017438 0.06008419 0.044546   0.04432952 0.04834636\n",
            " 0.05919423 0.06900782 0.06819002 0.06248948 0.06164762 0.07011425\n",
            " 0.06944077 0.06956103 0.07206254 0.06987372 0.06660253 0.06806975\n",
            " 0.06494287 0.05654841 0.05972339 0.06179194 0.06313891 0.06905592\n",
            " 0.07788334 0.07874925 0.07841251 0.07675286 0.08036079 0.08187613\n",
            " 0.07562237 0.0791341  0.0771377  0.07562237 0.09029465 0.09012628\n",
            " 0.09226699 0.08734817 0.0911365  0.09991581 0.09770295 0.10013229\n",
            " 0.11148527 0.10710764 0.10434155 0.1018641  0.09397474 0.09782321\n",
            " 0.08721587 0.09760673 0.10032471 0.09294047 0.09250752 0.09753458\n",
            " 0.0927721  0.08851473 0.09017438 0.10027661 0.11191822 0.11720986\n",
            " 0.12647023 0.1270475  0.12440168 0.11244738 0.10010824 0.10535177\n",
            " 0.10739627 0.11155286 0.10804994 0.10621182 0.10555323 0.1055759\n",
            " 0.10594195 0.10646828 0.10707022 0.10771034]\n",
            "9 day output [[0.10836848]]\n",
            "10 day input [0.04300661 0.0527721  0.05921828 0.05712568 0.06126278 0.06361996\n",
            " 0.05455201 0.06292243 0.05488876 0.05950692 0.05924233 0.06405292\n",
            " 0.08192423 0.07398677 0.07420325 0.07304871 0.06898376 0.06167168\n",
            " 0.06535177 0.06381239 0.06111846 0.0594107  0.05943476 0.06316296\n",
            " 0.05017438 0.06008419 0.044546   0.04432952 0.04834636 0.05919423\n",
            " 0.06900782 0.06819002 0.06248948 0.06164762 0.07011425 0.06944077\n",
            " 0.06956103 0.07206254 0.06987372 0.06660253 0.06806975 0.06494287\n",
            " 0.05654841 0.05972339 0.06179194 0.06313891 0.06905592 0.07788334\n",
            " 0.07874925 0.07841251 0.07675286 0.08036079 0.08187613 0.07562237\n",
            " 0.0791341  0.0771377  0.07562237 0.09029465 0.09012628 0.09226699\n",
            " 0.08734817 0.0911365  0.09991581 0.09770295 0.10013229 0.11148527\n",
            " 0.10710764 0.10434155 0.1018641  0.09397474 0.09782321 0.08721587\n",
            " 0.09760673 0.10032471 0.09294047 0.09250752 0.09753458 0.0927721\n",
            " 0.08851473 0.09017438 0.10027661 0.11191822 0.11720986 0.12647023\n",
            " 0.1270475  0.12440168 0.11244738 0.10010824 0.10535177 0.10739627\n",
            " 0.11155286 0.10804994 0.10621182 0.10555323 0.1055759  0.10594195\n",
            " 0.10646828 0.10707022 0.10771034 0.10836848]\n",
            "10 day output [[0.10902861]]\n",
            "11 day input [0.0527721  0.05921828 0.05712568 0.06126278 0.06361996 0.05455201\n",
            " 0.06292243 0.05488876 0.05950692 0.05924233 0.06405292 0.08192423\n",
            " 0.07398677 0.07420325 0.07304871 0.06898376 0.06167168 0.06535177\n",
            " 0.06381239 0.06111846 0.0594107  0.05943476 0.06316296 0.05017438\n",
            " 0.06008419 0.044546   0.04432952 0.04834636 0.05919423 0.06900782\n",
            " 0.06819002 0.06248948 0.06164762 0.07011425 0.06944077 0.06956103\n",
            " 0.07206254 0.06987372 0.06660253 0.06806975 0.06494287 0.05654841\n",
            " 0.05972339 0.06179194 0.06313891 0.06905592 0.07788334 0.07874925\n",
            " 0.07841251 0.07675286 0.08036079 0.08187613 0.07562237 0.0791341\n",
            " 0.0771377  0.07562237 0.09029465 0.09012628 0.09226699 0.08734817\n",
            " 0.0911365  0.09991581 0.09770295 0.10013229 0.11148527 0.10710764\n",
            " 0.10434155 0.1018641  0.09397474 0.09782321 0.08721587 0.09760673\n",
            " 0.10032471 0.09294047 0.09250752 0.09753458 0.0927721  0.08851473\n",
            " 0.09017438 0.10027661 0.11191822 0.11720986 0.12647023 0.1270475\n",
            " 0.12440168 0.11244738 0.10010824 0.10535177 0.10739627 0.11155286\n",
            " 0.10804994 0.10621182 0.10555323 0.1055759  0.10594195 0.10646828\n",
            " 0.10707022 0.10771034 0.10836848 0.10902861]\n",
            "11 day output [[0.1096759]]\n",
            "12 day input [0.05921828 0.05712568 0.06126278 0.06361996 0.05455201 0.06292243\n",
            " 0.05488876 0.05950692 0.05924233 0.06405292 0.08192423 0.07398677\n",
            " 0.07420325 0.07304871 0.06898376 0.06167168 0.06535177 0.06381239\n",
            " 0.06111846 0.0594107  0.05943476 0.06316296 0.05017438 0.06008419\n",
            " 0.044546   0.04432952 0.04834636 0.05919423 0.06900782 0.06819002\n",
            " 0.06248948 0.06164762 0.07011425 0.06944077 0.06956103 0.07206254\n",
            " 0.06987372 0.06660253 0.06806975 0.06494287 0.05654841 0.05972339\n",
            " 0.06179194 0.06313891 0.06905592 0.07788334 0.07874925 0.07841251\n",
            " 0.07675286 0.08036079 0.08187613 0.07562237 0.0791341  0.0771377\n",
            " 0.07562237 0.09029465 0.09012628 0.09226699 0.08734817 0.0911365\n",
            " 0.09991581 0.09770295 0.10013229 0.11148527 0.10710764 0.10434155\n",
            " 0.1018641  0.09397474 0.09782321 0.08721587 0.09760673 0.10032471\n",
            " 0.09294047 0.09250752 0.09753458 0.0927721  0.08851473 0.09017438\n",
            " 0.10027661 0.11191822 0.11720986 0.12647023 0.1270475  0.12440168\n",
            " 0.11244738 0.10010824 0.10535177 0.10739627 0.11155286 0.10804994\n",
            " 0.10621182 0.10555323 0.1055759  0.10594195 0.10646828 0.10707022\n",
            " 0.10771034 0.10836848 0.10902861 0.1096759 ]\n",
            "12 day output [[0.11029753]]\n",
            "13 day input [0.05712568 0.06126278 0.06361996 0.05455201 0.06292243 0.05488876\n",
            " 0.05950692 0.05924233 0.06405292 0.08192423 0.07398677 0.07420325\n",
            " 0.07304871 0.06898376 0.06167168 0.06535177 0.06381239 0.06111846\n",
            " 0.0594107  0.05943476 0.06316296 0.05017438 0.06008419 0.044546\n",
            " 0.04432952 0.04834636 0.05919423 0.06900782 0.06819002 0.06248948\n",
            " 0.06164762 0.07011425 0.06944077 0.06956103 0.07206254 0.06987372\n",
            " 0.06660253 0.06806975 0.06494287 0.05654841 0.05972339 0.06179194\n",
            " 0.06313891 0.06905592 0.07788334 0.07874925 0.07841251 0.07675286\n",
            " 0.08036079 0.08187613 0.07562237 0.0791341  0.0771377  0.07562237\n",
            " 0.09029465 0.09012628 0.09226699 0.08734817 0.0911365  0.09991581\n",
            " 0.09770295 0.10013229 0.11148527 0.10710764 0.10434155 0.1018641\n",
            " 0.09397474 0.09782321 0.08721587 0.09760673 0.10032471 0.09294047\n",
            " 0.09250752 0.09753458 0.0927721  0.08851473 0.09017438 0.10027661\n",
            " 0.11191822 0.11720986 0.12647023 0.1270475  0.12440168 0.11244738\n",
            " 0.10010824 0.10535177 0.10739627 0.11155286 0.10804994 0.10621182\n",
            " 0.10555323 0.1055759  0.10594195 0.10646828 0.10707022 0.10771034\n",
            " 0.10836848 0.10902861 0.1096759  0.11029753]\n",
            "13 day output [[0.11088406]]\n",
            "14 day input [0.06126278 0.06361996 0.05455201 0.06292243 0.05488876 0.05950692\n",
            " 0.05924233 0.06405292 0.08192423 0.07398677 0.07420325 0.07304871\n",
            " 0.06898376 0.06167168 0.06535177 0.06381239 0.06111846 0.0594107\n",
            " 0.05943476 0.06316296 0.05017438 0.06008419 0.044546   0.04432952\n",
            " 0.04834636 0.05919423 0.06900782 0.06819002 0.06248948 0.06164762\n",
            " 0.07011425 0.06944077 0.06956103 0.07206254 0.06987372 0.06660253\n",
            " 0.06806975 0.06494287 0.05654841 0.05972339 0.06179194 0.06313891\n",
            " 0.06905592 0.07788334 0.07874925 0.07841251 0.07675286 0.08036079\n",
            " 0.08187613 0.07562237 0.0791341  0.0771377  0.07562237 0.09029465\n",
            " 0.09012628 0.09226699 0.08734817 0.0911365  0.09991581 0.09770295\n",
            " 0.10013229 0.11148527 0.10710764 0.10434155 0.1018641  0.09397474\n",
            " 0.09782321 0.08721587 0.09760673 0.10032471 0.09294047 0.09250752\n",
            " 0.09753458 0.0927721  0.08851473 0.09017438 0.10027661 0.11191822\n",
            " 0.11720986 0.12647023 0.1270475  0.12440168 0.11244738 0.10010824\n",
            " 0.10535177 0.10739627 0.11155286 0.10804994 0.10621182 0.10555323\n",
            " 0.1055759  0.10594195 0.10646828 0.10707022 0.10771034 0.10836848\n",
            " 0.10902861 0.1096759  0.11029753 0.11088406]\n",
            "14 day output [[0.11143003]]\n",
            "15 day input [0.06361996 0.05455201 0.06292243 0.05488876 0.05950692 0.05924233\n",
            " 0.06405292 0.08192423 0.07398677 0.07420325 0.07304871 0.06898376\n",
            " 0.06167168 0.06535177 0.06381239 0.06111846 0.0594107  0.05943476\n",
            " 0.06316296 0.05017438 0.06008419 0.044546   0.04432952 0.04834636\n",
            " 0.05919423 0.06900782 0.06819002 0.06248948 0.06164762 0.07011425\n",
            " 0.06944077 0.06956103 0.07206254 0.06987372 0.06660253 0.06806975\n",
            " 0.06494287 0.05654841 0.05972339 0.06179194 0.06313891 0.06905592\n",
            " 0.07788334 0.07874925 0.07841251 0.07675286 0.08036079 0.08187613\n",
            " 0.07562237 0.0791341  0.0771377  0.07562237 0.09029465 0.09012628\n",
            " 0.09226699 0.08734817 0.0911365  0.09991581 0.09770295 0.10013229\n",
            " 0.11148527 0.10710764 0.10434155 0.1018641  0.09397474 0.09782321\n",
            " 0.08721587 0.09760673 0.10032471 0.09294047 0.09250752 0.09753458\n",
            " 0.0927721  0.08851473 0.09017438 0.10027661 0.11191822 0.11720986\n",
            " 0.12647023 0.1270475  0.12440168 0.11244738 0.10010824 0.10535177\n",
            " 0.10739627 0.11155286 0.10804994 0.10621182 0.10555323 0.1055759\n",
            " 0.10594195 0.10646828 0.10707022 0.10771034 0.10836848 0.10902861\n",
            " 0.1096759  0.11029753 0.11088406 0.11143003]\n",
            "15 day output [[0.11193394]]\n",
            "16 day input [0.05455201 0.06292243 0.05488876 0.05950692 0.05924233 0.06405292\n",
            " 0.08192423 0.07398677 0.07420325 0.07304871 0.06898376 0.06167168\n",
            " 0.06535177 0.06381239 0.06111846 0.0594107  0.05943476 0.06316296\n",
            " 0.05017438 0.06008419 0.044546   0.04432952 0.04834636 0.05919423\n",
            " 0.06900782 0.06819002 0.06248948 0.06164762 0.07011425 0.06944077\n",
            " 0.06956103 0.07206254 0.06987372 0.06660253 0.06806975 0.06494287\n",
            " 0.05654841 0.05972339 0.06179194 0.06313891 0.06905592 0.07788334\n",
            " 0.07874925 0.07841251 0.07675286 0.08036079 0.08187613 0.07562237\n",
            " 0.0791341  0.0771377  0.07562237 0.09029465 0.09012628 0.09226699\n",
            " 0.08734817 0.0911365  0.09991581 0.09770295 0.10013229 0.11148527\n",
            " 0.10710764 0.10434155 0.1018641  0.09397474 0.09782321 0.08721587\n",
            " 0.09760673 0.10032471 0.09294047 0.09250752 0.09753458 0.0927721\n",
            " 0.08851473 0.09017438 0.10027661 0.11191822 0.11720986 0.12647023\n",
            " 0.1270475  0.12440168 0.11244738 0.10010824 0.10535177 0.10739627\n",
            " 0.11155286 0.10804994 0.10621182 0.10555323 0.1055759  0.10594195\n",
            " 0.10646828 0.10707022 0.10771034 0.10836848 0.10902861 0.1096759\n",
            " 0.11029753 0.11088406 0.11143003 0.11193394]\n",
            "16 day output [[0.1123976]]\n",
            "17 day input [0.06292243 0.05488876 0.05950692 0.05924233 0.06405292 0.08192423\n",
            " 0.07398677 0.07420325 0.07304871 0.06898376 0.06167168 0.06535177\n",
            " 0.06381239 0.06111846 0.0594107  0.05943476 0.06316296 0.05017438\n",
            " 0.06008419 0.044546   0.04432952 0.04834636 0.05919423 0.06900782\n",
            " 0.06819002 0.06248948 0.06164762 0.07011425 0.06944077 0.06956103\n",
            " 0.07206254 0.06987372 0.06660253 0.06806975 0.06494287 0.05654841\n",
            " 0.05972339 0.06179194 0.06313891 0.06905592 0.07788334 0.07874925\n",
            " 0.07841251 0.07675286 0.08036079 0.08187613 0.07562237 0.0791341\n",
            " 0.0771377  0.07562237 0.09029465 0.09012628 0.09226699 0.08734817\n",
            " 0.0911365  0.09991581 0.09770295 0.10013229 0.11148527 0.10710764\n",
            " 0.10434155 0.1018641  0.09397474 0.09782321 0.08721587 0.09760673\n",
            " 0.10032471 0.09294047 0.09250752 0.09753458 0.0927721  0.08851473\n",
            " 0.09017438 0.10027661 0.11191822 0.11720986 0.12647023 0.1270475\n",
            " 0.12440168 0.11244738 0.10010824 0.10535177 0.10739627 0.11155286\n",
            " 0.10804994 0.10621182 0.10555323 0.1055759  0.10594195 0.10646828\n",
            " 0.10707022 0.10771034 0.10836848 0.10902861 0.1096759  0.11029753\n",
            " 0.11088406 0.11143003 0.11193394 0.1123976 ]\n",
            "17 day output [[0.11282509]]\n",
            "18 day input [0.05488876 0.05950692 0.05924233 0.06405292 0.08192423 0.07398677\n",
            " 0.07420325 0.07304871 0.06898376 0.06167168 0.06535177 0.06381239\n",
            " 0.06111846 0.0594107  0.05943476 0.06316296 0.05017438 0.06008419\n",
            " 0.044546   0.04432952 0.04834636 0.05919423 0.06900782 0.06819002\n",
            " 0.06248948 0.06164762 0.07011425 0.06944077 0.06956103 0.07206254\n",
            " 0.06987372 0.06660253 0.06806975 0.06494287 0.05654841 0.05972339\n",
            " 0.06179194 0.06313891 0.06905592 0.07788334 0.07874925 0.07841251\n",
            " 0.07675286 0.08036079 0.08187613 0.07562237 0.0791341  0.0771377\n",
            " 0.07562237 0.09029465 0.09012628 0.09226699 0.08734817 0.0911365\n",
            " 0.09991581 0.09770295 0.10013229 0.11148527 0.10710764 0.10434155\n",
            " 0.1018641  0.09397474 0.09782321 0.08721587 0.09760673 0.10032471\n",
            " 0.09294047 0.09250752 0.09753458 0.0927721  0.08851473 0.09017438\n",
            " 0.10027661 0.11191822 0.11720986 0.12647023 0.1270475  0.12440168\n",
            " 0.11244738 0.10010824 0.10535177 0.10739627 0.11155286 0.10804994\n",
            " 0.10621182 0.10555323 0.1055759  0.10594195 0.10646828 0.10707022\n",
            " 0.10771034 0.10836848 0.10902861 0.1096759  0.11029753 0.11088406\n",
            " 0.11143003 0.11193394 0.1123976  0.11282509]\n",
            "18 day output [[0.113222]]\n",
            "19 day input [0.05950692 0.05924233 0.06405292 0.08192423 0.07398677 0.07420325\n",
            " 0.07304871 0.06898376 0.06167168 0.06535177 0.06381239 0.06111846\n",
            " 0.0594107  0.05943476 0.06316296 0.05017438 0.06008419 0.044546\n",
            " 0.04432952 0.04834636 0.05919423 0.06900782 0.06819002 0.06248948\n",
            " 0.06164762 0.07011425 0.06944077 0.06956103 0.07206254 0.06987372\n",
            " 0.06660253 0.06806975 0.06494287 0.05654841 0.05972339 0.06179194\n",
            " 0.06313891 0.06905592 0.07788334 0.07874925 0.07841251 0.07675286\n",
            " 0.08036079 0.08187613 0.07562237 0.0791341  0.0771377  0.07562237\n",
            " 0.09029465 0.09012628 0.09226699 0.08734817 0.0911365  0.09991581\n",
            " 0.09770295 0.10013229 0.11148527 0.10710764 0.10434155 0.1018641\n",
            " 0.09397474 0.09782321 0.08721587 0.09760673 0.10032471 0.09294047\n",
            " 0.09250752 0.09753458 0.0927721  0.08851473 0.09017438 0.10027661\n",
            " 0.11191822 0.11720986 0.12647023 0.1270475  0.12440168 0.11244738\n",
            " 0.10010824 0.10535177 0.10739627 0.11155286 0.10804994 0.10621182\n",
            " 0.10555323 0.1055759  0.10594195 0.10646828 0.10707022 0.10771034\n",
            " 0.10836848 0.10902861 0.1096759  0.11029753 0.11088406 0.11143003\n",
            " 0.11193394 0.1123976  0.11282509 0.113222  ]\n",
            "19 day output [[0.11359461]]\n",
            "20 day input [0.05924233 0.06405292 0.08192423 0.07398677 0.07420325 0.07304871\n",
            " 0.06898376 0.06167168 0.06535177 0.06381239 0.06111846 0.0594107\n",
            " 0.05943476 0.06316296 0.05017438 0.06008419 0.044546   0.04432952\n",
            " 0.04834636 0.05919423 0.06900782 0.06819002 0.06248948 0.06164762\n",
            " 0.07011425 0.06944077 0.06956103 0.07206254 0.06987372 0.06660253\n",
            " 0.06806975 0.06494287 0.05654841 0.05972339 0.06179194 0.06313891\n",
            " 0.06905592 0.07788334 0.07874925 0.07841251 0.07675286 0.08036079\n",
            " 0.08187613 0.07562237 0.0791341  0.0771377  0.07562237 0.09029465\n",
            " 0.09012628 0.09226699 0.08734817 0.0911365  0.09991581 0.09770295\n",
            " 0.10013229 0.11148527 0.10710764 0.10434155 0.1018641  0.09397474\n",
            " 0.09782321 0.08721587 0.09760673 0.10032471 0.09294047 0.09250752\n",
            " 0.09753458 0.0927721  0.08851473 0.09017438 0.10027661 0.11191822\n",
            " 0.11720986 0.12647023 0.1270475  0.12440168 0.11244738 0.10010824\n",
            " 0.10535177 0.10739627 0.11155286 0.10804994 0.10621182 0.10555323\n",
            " 0.1055759  0.10594195 0.10646828 0.10707022 0.10771034 0.10836848\n",
            " 0.10902861 0.1096759  0.11029753 0.11088406 0.11143003 0.11193394\n",
            " 0.1123976  0.11282509 0.113222   0.11359461]\n",
            "20 day output [[0.11394931]]\n",
            "21 day input [0.06405292 0.08192423 0.07398677 0.07420325 0.07304871 0.06898376\n",
            " 0.06167168 0.06535177 0.06381239 0.06111846 0.0594107  0.05943476\n",
            " 0.06316296 0.05017438 0.06008419 0.044546   0.04432952 0.04834636\n",
            " 0.05919423 0.06900782 0.06819002 0.06248948 0.06164762 0.07011425\n",
            " 0.06944077 0.06956103 0.07206254 0.06987372 0.06660253 0.06806975\n",
            " 0.06494287 0.05654841 0.05972339 0.06179194 0.06313891 0.06905592\n",
            " 0.07788334 0.07874925 0.07841251 0.07675286 0.08036079 0.08187613\n",
            " 0.07562237 0.0791341  0.0771377  0.07562237 0.09029465 0.09012628\n",
            " 0.09226699 0.08734817 0.0911365  0.09991581 0.09770295 0.10013229\n",
            " 0.11148527 0.10710764 0.10434155 0.1018641  0.09397474 0.09782321\n",
            " 0.08721587 0.09760673 0.10032471 0.09294047 0.09250752 0.09753458\n",
            " 0.0927721  0.08851473 0.09017438 0.10027661 0.11191822 0.11720986\n",
            " 0.12647023 0.1270475  0.12440168 0.11244738 0.10010824 0.10535177\n",
            " 0.10739627 0.11155286 0.10804994 0.10621182 0.10555323 0.1055759\n",
            " 0.10594195 0.10646828 0.10707022 0.10771034 0.10836848 0.10902861\n",
            " 0.1096759  0.11029753 0.11088406 0.11143003 0.11193394 0.1123976\n",
            " 0.11282509 0.113222   0.11359461 0.11394931]\n",
            "21 day output [[0.11429208]]\n",
            "22 day input [0.08192423 0.07398677 0.07420325 0.07304871 0.06898376 0.06167168\n",
            " 0.06535177 0.06381239 0.06111846 0.0594107  0.05943476 0.06316296\n",
            " 0.05017438 0.06008419 0.044546   0.04432952 0.04834636 0.05919423\n",
            " 0.06900782 0.06819002 0.06248948 0.06164762 0.07011425 0.06944077\n",
            " 0.06956103 0.07206254 0.06987372 0.06660253 0.06806975 0.06494287\n",
            " 0.05654841 0.05972339 0.06179194 0.06313891 0.06905592 0.07788334\n",
            " 0.07874925 0.07841251 0.07675286 0.08036079 0.08187613 0.07562237\n",
            " 0.0791341  0.0771377  0.07562237 0.09029465 0.09012628 0.09226699\n",
            " 0.08734817 0.0911365  0.09991581 0.09770295 0.10013229 0.11148527\n",
            " 0.10710764 0.10434155 0.1018641  0.09397474 0.09782321 0.08721587\n",
            " 0.09760673 0.10032471 0.09294047 0.09250752 0.09753458 0.0927721\n",
            " 0.08851473 0.09017438 0.10027661 0.11191822 0.11720986 0.12647023\n",
            " 0.1270475  0.12440168 0.11244738 0.10010824 0.10535177 0.10739627\n",
            " 0.11155286 0.10804994 0.10621182 0.10555323 0.1055759  0.10594195\n",
            " 0.10646828 0.10707022 0.10771034 0.10836848 0.10902861 0.1096759\n",
            " 0.11029753 0.11088406 0.11143003 0.11193394 0.1123976  0.11282509\n",
            " 0.113222   0.11359461 0.11394931 0.11429208]\n",
            "22 day output [[0.1146282]]\n",
            "23 day input [0.07398677 0.07420325 0.07304871 0.06898376 0.06167168 0.06535177\n",
            " 0.06381239 0.06111846 0.0594107  0.05943476 0.06316296 0.05017438\n",
            " 0.06008419 0.044546   0.04432952 0.04834636 0.05919423 0.06900782\n",
            " 0.06819002 0.06248948 0.06164762 0.07011425 0.06944077 0.06956103\n",
            " 0.07206254 0.06987372 0.06660253 0.06806975 0.06494287 0.05654841\n",
            " 0.05972339 0.06179194 0.06313891 0.06905592 0.07788334 0.07874925\n",
            " 0.07841251 0.07675286 0.08036079 0.08187613 0.07562237 0.0791341\n",
            " 0.0771377  0.07562237 0.09029465 0.09012628 0.09226699 0.08734817\n",
            " 0.0911365  0.09991581 0.09770295 0.10013229 0.11148527 0.10710764\n",
            " 0.10434155 0.1018641  0.09397474 0.09782321 0.08721587 0.09760673\n",
            " 0.10032471 0.09294047 0.09250752 0.09753458 0.0927721  0.08851473\n",
            " 0.09017438 0.10027661 0.11191822 0.11720986 0.12647023 0.1270475\n",
            " 0.12440168 0.11244738 0.10010824 0.10535177 0.10739627 0.11155286\n",
            " 0.10804994 0.10621182 0.10555323 0.1055759  0.10594195 0.10646828\n",
            " 0.10707022 0.10771034 0.10836848 0.10902861 0.1096759  0.11029753\n",
            " 0.11088406 0.11143003 0.11193394 0.1123976  0.11282509 0.113222\n",
            " 0.11359461 0.11394931 0.11429208 0.1146282 ]\n",
            "23 day output [[0.11496212]]\n",
            "24 day input [0.07420325 0.07304871 0.06898376 0.06167168 0.06535177 0.06381239\n",
            " 0.06111846 0.0594107  0.05943476 0.06316296 0.05017438 0.06008419\n",
            " 0.044546   0.04432952 0.04834636 0.05919423 0.06900782 0.06819002\n",
            " 0.06248948 0.06164762 0.07011425 0.06944077 0.06956103 0.07206254\n",
            " 0.06987372 0.06660253 0.06806975 0.06494287 0.05654841 0.05972339\n",
            " 0.06179194 0.06313891 0.06905592 0.07788334 0.07874925 0.07841251\n",
            " 0.07675286 0.08036079 0.08187613 0.07562237 0.0791341  0.0771377\n",
            " 0.07562237 0.09029465 0.09012628 0.09226699 0.08734817 0.0911365\n",
            " 0.09991581 0.09770295 0.10013229 0.11148527 0.10710764 0.10434155\n",
            " 0.1018641  0.09397474 0.09782321 0.08721587 0.09760673 0.10032471\n",
            " 0.09294047 0.09250752 0.09753458 0.0927721  0.08851473 0.09017438\n",
            " 0.10027661 0.11191822 0.11720986 0.12647023 0.1270475  0.12440168\n",
            " 0.11244738 0.10010824 0.10535177 0.10739627 0.11155286 0.10804994\n",
            " 0.10621182 0.10555323 0.1055759  0.10594195 0.10646828 0.10707022\n",
            " 0.10771034 0.10836848 0.10902861 0.1096759  0.11029753 0.11088406\n",
            " 0.11143003 0.11193394 0.1123976  0.11282509 0.113222   0.11359461\n",
            " 0.11394931 0.11429208 0.1146282  0.11496212]\n",
            "24 day output [[0.11529735]]\n",
            "25 day input [0.07304871 0.06898376 0.06167168 0.06535177 0.06381239 0.06111846\n",
            " 0.0594107  0.05943476 0.06316296 0.05017438 0.06008419 0.044546\n",
            " 0.04432952 0.04834636 0.05919423 0.06900782 0.06819002 0.06248948\n",
            " 0.06164762 0.07011425 0.06944077 0.06956103 0.07206254 0.06987372\n",
            " 0.06660253 0.06806975 0.06494287 0.05654841 0.05972339 0.06179194\n",
            " 0.06313891 0.06905592 0.07788334 0.07874925 0.07841251 0.07675286\n",
            " 0.08036079 0.08187613 0.07562237 0.0791341  0.0771377  0.07562237\n",
            " 0.09029465 0.09012628 0.09226699 0.08734817 0.0911365  0.09991581\n",
            " 0.09770295 0.10013229 0.11148527 0.10710764 0.10434155 0.1018641\n",
            " 0.09397474 0.09782321 0.08721587 0.09760673 0.10032471 0.09294047\n",
            " 0.09250752 0.09753458 0.0927721  0.08851473 0.09017438 0.10027661\n",
            " 0.11191822 0.11720986 0.12647023 0.1270475  0.12440168 0.11244738\n",
            " 0.10010824 0.10535177 0.10739627 0.11155286 0.10804994 0.10621182\n",
            " 0.10555323 0.1055759  0.10594195 0.10646828 0.10707022 0.10771034\n",
            " 0.10836848 0.10902861 0.1096759  0.11029753 0.11088406 0.11143003\n",
            " 0.11193394 0.1123976  0.11282509 0.113222   0.11359461 0.11394931\n",
            " 0.11429208 0.1146282  0.11496212 0.11529735]\n",
            "25 day output [[0.11563651]]\n",
            "26 day input [0.06898376 0.06167168 0.06535177 0.06381239 0.06111846 0.0594107\n",
            " 0.05943476 0.06316296 0.05017438 0.06008419 0.044546   0.04432952\n",
            " 0.04834636 0.05919423 0.06900782 0.06819002 0.06248948 0.06164762\n",
            " 0.07011425 0.06944077 0.06956103 0.07206254 0.06987372 0.06660253\n",
            " 0.06806975 0.06494287 0.05654841 0.05972339 0.06179194 0.06313891\n",
            " 0.06905592 0.07788334 0.07874925 0.07841251 0.07675286 0.08036079\n",
            " 0.08187613 0.07562237 0.0791341  0.0771377  0.07562237 0.09029465\n",
            " 0.09012628 0.09226699 0.08734817 0.0911365  0.09991581 0.09770295\n",
            " 0.10013229 0.11148527 0.10710764 0.10434155 0.1018641  0.09397474\n",
            " 0.09782321 0.08721587 0.09760673 0.10032471 0.09294047 0.09250752\n",
            " 0.09753458 0.0927721  0.08851473 0.09017438 0.10027661 0.11191822\n",
            " 0.11720986 0.12647023 0.1270475  0.12440168 0.11244738 0.10010824\n",
            " 0.10535177 0.10739627 0.11155286 0.10804994 0.10621182 0.10555323\n",
            " 0.1055759  0.10594195 0.10646828 0.10707022 0.10771034 0.10836848\n",
            " 0.10902861 0.1096759  0.11029753 0.11088406 0.11143003 0.11193394\n",
            " 0.1123976  0.11282509 0.113222   0.11359461 0.11394931 0.11429208\n",
            " 0.1146282  0.11496212 0.11529735 0.11563651]\n",
            "26 day output [[0.11598127]]\n",
            "27 day input [0.06167168 0.06535177 0.06381239 0.06111846 0.0594107  0.05943476\n",
            " 0.06316296 0.05017438 0.06008419 0.044546   0.04432952 0.04834636\n",
            " 0.05919423 0.06900782 0.06819002 0.06248948 0.06164762 0.07011425\n",
            " 0.06944077 0.06956103 0.07206254 0.06987372 0.06660253 0.06806975\n",
            " 0.06494287 0.05654841 0.05972339 0.06179194 0.06313891 0.06905592\n",
            " 0.07788334 0.07874925 0.07841251 0.07675286 0.08036079 0.08187613\n",
            " 0.07562237 0.0791341  0.0771377  0.07562237 0.09029465 0.09012628\n",
            " 0.09226699 0.08734817 0.0911365  0.09991581 0.09770295 0.10013229\n",
            " 0.11148527 0.10710764 0.10434155 0.1018641  0.09397474 0.09782321\n",
            " 0.08721587 0.09760673 0.10032471 0.09294047 0.09250752 0.09753458\n",
            " 0.0927721  0.08851473 0.09017438 0.10027661 0.11191822 0.11720986\n",
            " 0.12647023 0.1270475  0.12440168 0.11244738 0.10010824 0.10535177\n",
            " 0.10739627 0.11155286 0.10804994 0.10621182 0.10555323 0.1055759\n",
            " 0.10594195 0.10646828 0.10707022 0.10771034 0.10836848 0.10902861\n",
            " 0.1096759  0.11029753 0.11088406 0.11143003 0.11193394 0.1123976\n",
            " 0.11282509 0.113222   0.11359461 0.11394931 0.11429208 0.1146282\n",
            " 0.11496212 0.11529735 0.11563651 0.11598127]\n",
            "27 day output [[0.11633264]]\n",
            "28 day input [0.06535177 0.06381239 0.06111846 0.0594107  0.05943476 0.06316296\n",
            " 0.05017438 0.06008419 0.044546   0.04432952 0.04834636 0.05919423\n",
            " 0.06900782 0.06819002 0.06248948 0.06164762 0.07011425 0.06944077\n",
            " 0.06956103 0.07206254 0.06987372 0.06660253 0.06806975 0.06494287\n",
            " 0.05654841 0.05972339 0.06179194 0.06313891 0.06905592 0.07788334\n",
            " 0.07874925 0.07841251 0.07675286 0.08036079 0.08187613 0.07562237\n",
            " 0.0791341  0.0771377  0.07562237 0.09029465 0.09012628 0.09226699\n",
            " 0.08734817 0.0911365  0.09991581 0.09770295 0.10013229 0.11148527\n",
            " 0.10710764 0.10434155 0.1018641  0.09397474 0.09782321 0.08721587\n",
            " 0.09760673 0.10032471 0.09294047 0.09250752 0.09753458 0.0927721\n",
            " 0.08851473 0.09017438 0.10027661 0.11191822 0.11720986 0.12647023\n",
            " 0.1270475  0.12440168 0.11244738 0.10010824 0.10535177 0.10739627\n",
            " 0.11155286 0.10804994 0.10621182 0.10555323 0.1055759  0.10594195\n",
            " 0.10646828 0.10707022 0.10771034 0.10836848 0.10902861 0.1096759\n",
            " 0.11029753 0.11088406 0.11143003 0.11193394 0.1123976  0.11282509\n",
            " 0.113222   0.11359461 0.11394931 0.11429208 0.1146282  0.11496212\n",
            " 0.11529735 0.11563651 0.11598127 0.11633264]\n",
            "28 day output [[0.11669095]]\n",
            "29 day input [0.06381239 0.06111846 0.0594107  0.05943476 0.06316296 0.05017438\n",
            " 0.06008419 0.044546   0.04432952 0.04834636 0.05919423 0.06900782\n",
            " 0.06819002 0.06248948 0.06164762 0.07011425 0.06944077 0.06956103\n",
            " 0.07206254 0.06987372 0.06660253 0.06806975 0.06494287 0.05654841\n",
            " 0.05972339 0.06179194 0.06313891 0.06905592 0.07788334 0.07874925\n",
            " 0.07841251 0.07675286 0.08036079 0.08187613 0.07562237 0.0791341\n",
            " 0.0771377  0.07562237 0.09029465 0.09012628 0.09226699 0.08734817\n",
            " 0.0911365  0.09991581 0.09770295 0.10013229 0.11148527 0.10710764\n",
            " 0.10434155 0.1018641  0.09397474 0.09782321 0.08721587 0.09760673\n",
            " 0.10032471 0.09294047 0.09250752 0.09753458 0.0927721  0.08851473\n",
            " 0.09017438 0.10027661 0.11191822 0.11720986 0.12647023 0.1270475\n",
            " 0.12440168 0.11244738 0.10010824 0.10535177 0.10739627 0.11155286\n",
            " 0.10804994 0.10621182 0.10555323 0.1055759  0.10594195 0.10646828\n",
            " 0.10707022 0.10771034 0.10836848 0.10902861 0.1096759  0.11029753\n",
            " 0.11088406 0.11143003 0.11193394 0.1123976  0.11282509 0.113222\n",
            " 0.11359461 0.11394931 0.11429208 0.1146282  0.11496212 0.11529735\n",
            " 0.11563651 0.11598127 0.11633264 0.11669095]\n",
            "29 day output [[0.11705607]]\n"
          ],
          "name": "stdout"
        },
        {
          "output_type": "execute_result",
          "data": {
            "text/plain": [
              "[[0.11155285686254501],\n",
              " [0.10804993659257889],\n",
              " [0.106211818754673],\n",
              " [0.10555323213338852],\n",
              " [0.10557590425014496]]"
            ]
          },
          "metadata": {
            "tags": []
          },
          "execution_count": 71
        }
      ]
    },
    {
      "cell_type": "code",
      "metadata": {
        "id": "sJfYdLAhtm7y"
      },
      "source": [
        "day_new=np.arange(1,101)\r\n",
        "day_pred=np.arange(101,131)"
      ],
      "execution_count": 72,
      "outputs": []
    },
    {
      "cell_type": "code",
      "metadata": {
        "colab": {
          "base_uri": "https://localhost:8080/"
        },
        "id": "jaWR5S3vtpDi",
        "outputId": "2b69c60e-269e-49e4-9ad4-316423022122"
      },
      "source": [
        "import matplotlib.pyplot as plt\r\n",
        "len(df1)"
      ],
      "execution_count": 73,
      "outputs": [
        {
          "output_type": "execute_result",
          "data": {
            "text/plain": [
              "1257"
            ]
          },
          "metadata": {
            "tags": []
          },
          "execution_count": 73
        }
      ]
    },
    {
      "cell_type": "code",
      "metadata": {
        "colab": {
          "base_uri": "https://localhost:8080/",
          "height": 282
        },
        "id": "wPPvudZ1ts9p",
        "outputId": "dc18662e-a0ed-43e7-a7fe-ec5efd9ad0fd"
      },
      "source": [
        "plt.plot(day_new,scaler.inverse_transform(df1[1157:]))\r\n",
        "plt.plot(day_pred,scaler.inverse_transform(lst_output))"
      ],
      "execution_count": 74,
      "outputs": [
        {
          "output_type": "execute_result",
          "data": {
            "text/plain": [
              "[<matplotlib.lines.Line2D at 0x7f7654c5ee10>]"
            ]
          },
          "metadata": {
            "tags": []
          },
          "execution_count": 74
        },
        {
          "output_type": "display_data",
          "data": {
            "image/png": "[encoded data removed]",
            "text/plain": [
              "<Figure size 432x288 with 1 Axes>"
            ]
          },
          "metadata": {
            "tags": [],
            "needs_background": "light"
          }
        }
      ]
    },
    {
      "cell_type": "code",
      "metadata": {
        "colab": {
          "base_uri": "https://localhost:8080/",
          "height": 285
        },
        "id": "cdCVvgrztvnJ",
        "outputId": "a9f68b8d-e833-4fb8-d72f-a69eb8dc5a61"
      },
      "source": [
        "df3=df1.tolist()\r\n",
        "df3.extend(lst_output)\r\n",
        "plt.plot(df3[1200:])"
      ],
      "execution_count": 75,
      "outputs": [
        {
          "output_type": "execute_result",
          "data": {
            "text/plain": [
              "[<matplotlib.lines.Line2D at 0x7f7654c6f630>]"
            ]
          },
          "metadata": {
            "tags": []
          },
          "execution_count": 75
        },
        {
          "output_type": "display_data",
          "data": {
            "image/png": "[encoded data removed]",
            "text/plain": [
              "<Figure size 432x288 with 1 Axes>"
            ]
          },
          "metadata": {
            "tags": [],
            "needs_background": "light"
          }
        }
      ]
    },
    {
      "cell_type": "code",
      "metadata": {
        "colab": {
          "base_uri": "https://localhost:8080/",
          "height": 282
        },
        "id": "15yXFcQetzXl",
        "outputId": "927f1d61-13df-4d37-855d-5985b89075ab"
      },
      "source": [
        "df3=scaler.inverse_transform(df3).tolist()\r\n",
        "plt.plot(df3)"
      ],
      "execution_count": 76,
      "outputs": [
        {
          "output_type": "execute_result",
          "data": {
            "text/plain": [
              "[<matplotlib.lines.Line2D at 0x7f76944b2710>]"
            ]
          },
          "metadata": {
            "tags": []
          },
          "execution_count": 76
        },
        {
          "output_type": "display_data",
          "data": {
            "image/png": "[encoded data removed]",
            "text/plain": [
              "<Figure size 432x288 with 1 Axes>"
            ]
          },
          "metadata": {
            "tags": [],
            "needs_background": "light"
          }
        }
      ]
    }
  ]
}